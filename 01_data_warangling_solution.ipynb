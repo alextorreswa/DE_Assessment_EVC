{
 "cells": [
  {
   "cell_type": "markdown",
   "source": [
    "# Data Wrangling\n",
    "\n",
    "Target time: 60 mins\n",
    "\n",
    "_**Reminder:** Before you get started on this task, verify that you can log into\n",
    "the online platform as described in [Setup](#setup)._\n",
    "\n",
    "## Overview\n",
    "\n",
    "We are working with new partners, Vendor X and Vendor Y, and need to ingest\n",
    "their data into our data warehouse. Vendor X sends us a csv file each day.\n",
    "Vendor Y makes their data available via their API. We need to download the\n",
    "files, merge them and then load them into our database.\n",
    "\n",
    "The goal is to set up an automated process to ingest this data. We need our Data\n",
    "Engineer to write a script that will:"
   ],
   "metadata": {
    "collapsed": false,
    "pycharm": {
     "name": "#%% md\n"
    }
   }
  },
  {
   "cell_type": "markdown",
   "source": [
    "### 0. Notebook Preparation"
   ],
   "metadata": {
    "collapsed": false,
    "pycharm": {
     "name": "#%% md\n"
    }
   }
  },
  {
   "cell_type": "code",
   "execution_count": 44,
   "outputs": [],
   "source": [
    "import psycopg2\n",
    "import csv\n",
    "import requests\n",
    "import pandas as pd\n",
    "import numpy as np\n",
    "\n",
    "# credentials\n",
    "user = \"u_173f722a36d72a4e353ee93dacf4872c\"\n",
    "password = \"p_173f722a36d72a4e353ee93dacf4872c\"\n",
    "database = \"sqlpad\"\n",
    "host = \"68.183.51.176\"\n",
    "schema = \"s_173f722a36d72a4e353ee93dacf4872c\"\n",
    "port = 5432\n",
    "\n",
    "# connection database\n",
    "def get_connection():\n",
    "    conn = psycopg2.connect(\n",
    "        user=user,\n",
    "        password=password,\n",
    "        host=host,\n",
    "        port=port,\n",
    "        database=database,\n",
    "        options=f\"-c search_path={schema}\")\n",
    "    return conn"
   ],
   "metadata": {
    "collapsed": false,
    "pycharm": {
     "name": "#%%\n"
    }
   }
  },
  {
   "cell_type": "markdown",
   "source": [
    "\n",
    "### 1. Download Vendor Y's data from the API\n",
    "   API URL: https://k4clzaf58d.execute-api.us-east-1.amazonaws.com/default/handle_users"
   ],
   "metadata": {
    "collapsed": false,
    "pycharm": {
     "name": "#%% md\n"
    }
   }
  },
  {
   "cell_type": "markdown",
   "source": [],
   "metadata": {
    "collapsed": false,
    "pycharm": {
     "name": "#%% md\n"
    }
   }
  },
  {
   "cell_type": "code",
   "execution_count": 45,
   "outputs": [
    {
     "name": "stdout",
     "output_type": "stream",
     "text": [
      "(147, 55)\n"
     ]
    },
    {
     "data": {
      "text/plain": "                        registration_id  status tracking_source tracking_id  \\\n0  d95bafc8-f2a4-427b-9cf4-bb99f4bea973  Step 1       ffxkVZQtq   MnMcLRkBO   \n1  e16dce72-f18e-4598-b5e1-f291d322a735  Step 1       BTWcdxxlp   RbfhebcUb   \n2  8918b682-4f4a-453e-b430-051376e31f5a  Step 4       nRWnUZBBG   bLLdAHLlg   \n3  1cb0a312-4978-4137-8624-857a2c2af60d  Step 2       IWBgvHpTG   qkkDTpzwY   \n4  a62923cd-7f8f-4441-8ef5-4c3dad29b40a  Step 2       ESITtequt   vPYtPPzHf   \n\n        dob                      email citizenship_confirmed salutation  \\\n0  60-05-29             amy78yahoo.com                  true        Dr.   \n1  57-08-17         david22hotmail.com                  true        Dr.   \n2  97-02-14            hdiaz5gmail.com                 false        Dr.   \n3  84-11-22  stevenhiggins3hotmail.com                 false      Misc.   \n4  76-01-19       petermorenogmail.com                  true        Mr.   \n\n  first_name middle_name  ... has_mailing_address_standardized  \\\n0     Steven       Lucas  ...                             true   \n1    Bradley    Veronica  ...                            false   \n2       Kyle       Nancy  ...                             true   \n3      Brian      Joshua  ...                            false   \n4      Jesse     Stephen  ...                             true   \n\n  has_state_license_standardized has_ssn_standardized predicted_gender    org  \\\n0                          false                 true           female  org_5   \n1                           true                 true            other  org_1   \n2                          false                 true             male  org_1   \n3                          false                 true           female  org_1   \n4                          false                 true           female  org_5   \n\n      evc_id program_state partner_id          field_start  \\\n0  PdrLoRgWH            DC       4355  2022-02-09 00:00:00   \n1  pggblWogn            AK       8531  2022-07-24 00:00:00   \n2  ZfRZPcisy            IN       5397  2022-04-25 00:00:00   \n3  sJDaxcIyK            NV       3349  2022-10-10 00:00:00   \n4  yIsEOjxum            NM       1557  2021-12-31 00:00:00   \n\n             field_end  \n0  2022-02-09 02:00:00  \n1  2022-07-24 02:00:00  \n2  2022-04-25 02:00:00  \n3  2022-10-10 02:00:00  \n4  2021-12-31 02:00:00  \n\n[5 rows x 55 columns]",
      "text/html": "<div>\n<style scoped>\n    .dataframe tbody tr th:only-of-type {\n        vertical-align: middle;\n    }\n\n    .dataframe tbody tr th {\n        vertical-align: top;\n    }\n\n    .dataframe thead th {\n        text-align: right;\n    }\n</style>\n<table border=\"1\" class=\"dataframe\">\n  <thead>\n    <tr style=\"text-align: right;\">\n      <th></th>\n      <th>registration_id</th>\n      <th>status</th>\n      <th>tracking_source</th>\n      <th>tracking_id</th>\n      <th>dob</th>\n      <th>email</th>\n      <th>citizenship_confirmed</th>\n      <th>salutation</th>\n      <th>first_name</th>\n      <th>middle_name</th>\n      <th>...</th>\n      <th>has_mailing_address_standardized</th>\n      <th>has_state_license_standardized</th>\n      <th>has_ssn_standardized</th>\n      <th>predicted_gender</th>\n      <th>org</th>\n      <th>evc_id</th>\n      <th>program_state</th>\n      <th>partner_id</th>\n      <th>field_start</th>\n      <th>field_end</th>\n    </tr>\n  </thead>\n  <tbody>\n    <tr>\n      <th>0</th>\n      <td>d95bafc8-f2a4-427b-9cf4-bb99f4bea973</td>\n      <td>Step 1</td>\n      <td>ffxkVZQtq</td>\n      <td>MnMcLRkBO</td>\n      <td>60-05-29</td>\n      <td>amy78yahoo.com</td>\n      <td>true</td>\n      <td>Dr.</td>\n      <td>Steven</td>\n      <td>Lucas</td>\n      <td>...</td>\n      <td>true</td>\n      <td>false</td>\n      <td>true</td>\n      <td>female</td>\n      <td>org_5</td>\n      <td>PdrLoRgWH</td>\n      <td>DC</td>\n      <td>4355</td>\n      <td>2022-02-09 00:00:00</td>\n      <td>2022-02-09 02:00:00</td>\n    </tr>\n    <tr>\n      <th>1</th>\n      <td>e16dce72-f18e-4598-b5e1-f291d322a735</td>\n      <td>Step 1</td>\n      <td>BTWcdxxlp</td>\n      <td>RbfhebcUb</td>\n      <td>57-08-17</td>\n      <td>david22hotmail.com</td>\n      <td>true</td>\n      <td>Dr.</td>\n      <td>Bradley</td>\n      <td>Veronica</td>\n      <td>...</td>\n      <td>false</td>\n      <td>true</td>\n      <td>true</td>\n      <td>other</td>\n      <td>org_1</td>\n      <td>pggblWogn</td>\n      <td>AK</td>\n      <td>8531</td>\n      <td>2022-07-24 00:00:00</td>\n      <td>2022-07-24 02:00:00</td>\n    </tr>\n    <tr>\n      <th>2</th>\n      <td>8918b682-4f4a-453e-b430-051376e31f5a</td>\n      <td>Step 4</td>\n      <td>nRWnUZBBG</td>\n      <td>bLLdAHLlg</td>\n      <td>97-02-14</td>\n      <td>hdiaz5gmail.com</td>\n      <td>false</td>\n      <td>Dr.</td>\n      <td>Kyle</td>\n      <td>Nancy</td>\n      <td>...</td>\n      <td>true</td>\n      <td>false</td>\n      <td>true</td>\n      <td>male</td>\n      <td>org_1</td>\n      <td>ZfRZPcisy</td>\n      <td>IN</td>\n      <td>5397</td>\n      <td>2022-04-25 00:00:00</td>\n      <td>2022-04-25 02:00:00</td>\n    </tr>\n    <tr>\n      <th>3</th>\n      <td>1cb0a312-4978-4137-8624-857a2c2af60d</td>\n      <td>Step 2</td>\n      <td>IWBgvHpTG</td>\n      <td>qkkDTpzwY</td>\n      <td>84-11-22</td>\n      <td>stevenhiggins3hotmail.com</td>\n      <td>false</td>\n      <td>Misc.</td>\n      <td>Brian</td>\n      <td>Joshua</td>\n      <td>...</td>\n      <td>false</td>\n      <td>false</td>\n      <td>true</td>\n      <td>female</td>\n      <td>org_1</td>\n      <td>sJDaxcIyK</td>\n      <td>NV</td>\n      <td>3349</td>\n      <td>2022-10-10 00:00:00</td>\n      <td>2022-10-10 02:00:00</td>\n    </tr>\n    <tr>\n      <th>4</th>\n      <td>a62923cd-7f8f-4441-8ef5-4c3dad29b40a</td>\n      <td>Step 2</td>\n      <td>ESITtequt</td>\n      <td>vPYtPPzHf</td>\n      <td>76-01-19</td>\n      <td>petermorenogmail.com</td>\n      <td>true</td>\n      <td>Mr.</td>\n      <td>Jesse</td>\n      <td>Stephen</td>\n      <td>...</td>\n      <td>true</td>\n      <td>false</td>\n      <td>true</td>\n      <td>female</td>\n      <td>org_5</td>\n      <td>yIsEOjxum</td>\n      <td>NM</td>\n      <td>1557</td>\n      <td>2021-12-31 00:00:00</td>\n      <td>2021-12-31 02:00:00</td>\n    </tr>\n  </tbody>\n</table>\n<p>5 rows × 55 columns</p>\n</div>"
     },
     "execution_count": 45,
     "metadata": {},
     "output_type": "execute_result"
    }
   ],
   "source": [
    "r_vendors_y = requests.get(\"https://k4clzaf58d.execute-api.us-east-1.amazonaws.com/default/handle_users\")\n",
    "vendors_y = r_vendors_y.json()['data']\n",
    "df_vendors_y = pd.DataFrame.from_records(vendors_y)\n",
    "print(df_vendors_y.shape)\n",
    "df_vendors_y.head()"
   ],
   "metadata": {
    "collapsed": false,
    "pycharm": {
     "name": "#%%\n"
    }
   }
  },
  {
   "cell_type": "markdown",
   "source": [
    "### 2. Merge Vendor Y's data with Vendor X's data\n",
    "    Vendor X's data: `data/vendor_x_data.csv`"
   ],
   "metadata": {
    "collapsed": false,
    "pycharm": {
     "name": "#%% md\n"
    }
   }
  },
  {
   "cell_type": "code",
   "execution_count": 46,
   "outputs": [
    {
     "name": "stdout",
     "output_type": "stream",
     "text": [
      "(147, 55)\n"
     ]
    },
    {
     "data": {
      "text/plain": "                              VENDOR_ID  STATUS TRACKING_SOURCE TRACKING_ID  \\\n0  d95bafc8-f2a4-427b-9cf4-bb99f4bea973  Step 1       ffxkVZQtq   MnMcLRkBO   \n1  e16dce72-f18e-4598-b5e1-f291d322a735  Step 1       BTWcdxxlp   RbfhebcUb   \n2  8918b682-4f4a-453e-b430-051376e31f5a  Step 4       nRWnUZBBG   bLLdAHLlg   \n3  1cb0a312-4978-4137-8624-857a2c2af60d  Step 2       IWBgvHpTG   qkkDTpzwY   \n4  a62923cd-7f8f-4441-8ef5-4c3dad29b40a  Step 2       ESITtequt   vPYtPPzHf   \n\n  DATE_OF_BIRTH              EMAIL_ADDRESS  CITIZENSHIP_CONFIRMED SALUTATION  \\\n0    1960-05-29             amy78yahoo.com                   True        Dr.   \n1    1957-08-17         david22hotmail.com                   True        Dr.   \n2    1997-02-14            hdiaz5gmail.com                  False        Dr.   \n3    1984-11-22  stevenhiggins3hotmail.com                  False      Misc.   \n4    1976-01-19       petermorenogmail.com                   True        Mr.   \n\n  FIRST_NAME MIDDLE_NAME  ... HAS_MAILING_ADDRESS_STANDARDIZED  \\\n0     Steven       Lucas  ...                             True   \n1    Bradley    Veronica  ...                            False   \n2       Kyle       Nancy  ...                             True   \n3      Brian      Joshua  ...                            False   \n4      Jesse     Stephen  ...                             True   \n\n  HAS_STATE_LICENSE_STANDARDIZED HAS_SSN_STANDARDIZED  PREDICTED_GENDER  \\\n0                          False                 True            female   \n1                           True                 True             other   \n2                          False                 True              male   \n3                          False                 True            female   \n4                          False                 True            female   \n\n     ORG     EVC_ID PROGRAM_STATE  PARTNER_ID          FIELD_START  \\\n0  org_5  PdrLoRgWH            DC        4355  2022-02-09 00:00:00   \n1  org_1  pggblWogn            AK        8531  2022-07-24 00:00:00   \n2  org_1  ZfRZPcisy            IN        5397  2022-04-25 00:00:00   \n3  org_1  sJDaxcIyK            NV        3349  2022-10-10 00:00:00   \n4  org_5  yIsEOjxum            NM        1557  2021-12-31 00:00:00   \n\n             FIELD_END  \n0  2022-02-09 02:00:00  \n1  2022-07-24 02:00:00  \n2  2022-04-25 02:00:00  \n3  2022-10-10 02:00:00  \n4  2021-12-31 02:00:00  \n\n[5 rows x 55 columns]",
      "text/html": "<div>\n<style scoped>\n    .dataframe tbody tr th:only-of-type {\n        vertical-align: middle;\n    }\n\n    .dataframe tbody tr th {\n        vertical-align: top;\n    }\n\n    .dataframe thead th {\n        text-align: right;\n    }\n</style>\n<table border=\"1\" class=\"dataframe\">\n  <thead>\n    <tr style=\"text-align: right;\">\n      <th></th>\n      <th>VENDOR_ID</th>\n      <th>STATUS</th>\n      <th>TRACKING_SOURCE</th>\n      <th>TRACKING_ID</th>\n      <th>DATE_OF_BIRTH</th>\n      <th>EMAIL_ADDRESS</th>\n      <th>CITIZENSHIP_CONFIRMED</th>\n      <th>SALUTATION</th>\n      <th>FIRST_NAME</th>\n      <th>MIDDLE_NAME</th>\n      <th>...</th>\n      <th>HAS_MAILING_ADDRESS_STANDARDIZED</th>\n      <th>HAS_STATE_LICENSE_STANDARDIZED</th>\n      <th>HAS_SSN_STANDARDIZED</th>\n      <th>PREDICTED_GENDER</th>\n      <th>ORG</th>\n      <th>EVC_ID</th>\n      <th>PROGRAM_STATE</th>\n      <th>PARTNER_ID</th>\n      <th>FIELD_START</th>\n      <th>FIELD_END</th>\n    </tr>\n  </thead>\n  <tbody>\n    <tr>\n      <th>0</th>\n      <td>d95bafc8-f2a4-427b-9cf4-bb99f4bea973</td>\n      <td>Step 1</td>\n      <td>ffxkVZQtq</td>\n      <td>MnMcLRkBO</td>\n      <td>1960-05-29</td>\n      <td>amy78yahoo.com</td>\n      <td>True</td>\n      <td>Dr.</td>\n      <td>Steven</td>\n      <td>Lucas</td>\n      <td>...</td>\n      <td>True</td>\n      <td>False</td>\n      <td>True</td>\n      <td>female</td>\n      <td>org_5</td>\n      <td>PdrLoRgWH</td>\n      <td>DC</td>\n      <td>4355</td>\n      <td>2022-02-09 00:00:00</td>\n      <td>2022-02-09 02:00:00</td>\n    </tr>\n    <tr>\n      <th>1</th>\n      <td>e16dce72-f18e-4598-b5e1-f291d322a735</td>\n      <td>Step 1</td>\n      <td>BTWcdxxlp</td>\n      <td>RbfhebcUb</td>\n      <td>1957-08-17</td>\n      <td>david22hotmail.com</td>\n      <td>True</td>\n      <td>Dr.</td>\n      <td>Bradley</td>\n      <td>Veronica</td>\n      <td>...</td>\n      <td>False</td>\n      <td>True</td>\n      <td>True</td>\n      <td>other</td>\n      <td>org_1</td>\n      <td>pggblWogn</td>\n      <td>AK</td>\n      <td>8531</td>\n      <td>2022-07-24 00:00:00</td>\n      <td>2022-07-24 02:00:00</td>\n    </tr>\n    <tr>\n      <th>2</th>\n      <td>8918b682-4f4a-453e-b430-051376e31f5a</td>\n      <td>Step 4</td>\n      <td>nRWnUZBBG</td>\n      <td>bLLdAHLlg</td>\n      <td>1997-02-14</td>\n      <td>hdiaz5gmail.com</td>\n      <td>False</td>\n      <td>Dr.</td>\n      <td>Kyle</td>\n      <td>Nancy</td>\n      <td>...</td>\n      <td>True</td>\n      <td>False</td>\n      <td>True</td>\n      <td>male</td>\n      <td>org_1</td>\n      <td>ZfRZPcisy</td>\n      <td>IN</td>\n      <td>5397</td>\n      <td>2022-04-25 00:00:00</td>\n      <td>2022-04-25 02:00:00</td>\n    </tr>\n    <tr>\n      <th>3</th>\n      <td>1cb0a312-4978-4137-8624-857a2c2af60d</td>\n      <td>Step 2</td>\n      <td>IWBgvHpTG</td>\n      <td>qkkDTpzwY</td>\n      <td>1984-11-22</td>\n      <td>stevenhiggins3hotmail.com</td>\n      <td>False</td>\n      <td>Misc.</td>\n      <td>Brian</td>\n      <td>Joshua</td>\n      <td>...</td>\n      <td>False</td>\n      <td>False</td>\n      <td>True</td>\n      <td>female</td>\n      <td>org_1</td>\n      <td>sJDaxcIyK</td>\n      <td>NV</td>\n      <td>3349</td>\n      <td>2022-10-10 00:00:00</td>\n      <td>2022-10-10 02:00:00</td>\n    </tr>\n    <tr>\n      <th>4</th>\n      <td>a62923cd-7f8f-4441-8ef5-4c3dad29b40a</td>\n      <td>Step 2</td>\n      <td>ESITtequt</td>\n      <td>vPYtPPzHf</td>\n      <td>1976-01-19</td>\n      <td>petermorenogmail.com</td>\n      <td>True</td>\n      <td>Mr.</td>\n      <td>Jesse</td>\n      <td>Stephen</td>\n      <td>...</td>\n      <td>True</td>\n      <td>False</td>\n      <td>True</td>\n      <td>female</td>\n      <td>org_5</td>\n      <td>yIsEOjxum</td>\n      <td>NM</td>\n      <td>1557</td>\n      <td>2021-12-31 00:00:00</td>\n      <td>2021-12-31 02:00:00</td>\n    </tr>\n  </tbody>\n</table>\n<p>5 rows × 55 columns</p>\n</div>"
     },
     "execution_count": 46,
     "metadata": {},
     "output_type": "execute_result"
    }
   ],
   "source": [
    "df_vendors_x = pd.read_csv('data/vendor_x_data.csv')\n",
    "# df_vendors_x = pd.read_csv('data/vendor_x_data.csv', index_col=[\"VENDOR_ID\"])\n",
    "print(df_vendors_x.shape)\n",
    "df_vendors_x.head()"
   ],
   "metadata": {
    "collapsed": false,
    "pycharm": {
     "name": "#%%\n"
    }
   }
  },
  {
   "cell_type": "code",
   "execution_count": 47,
   "outputs": [
    {
     "name": "stdout",
     "output_type": "stream",
     "text": [
      "VENDOR_ID  < -- >  registration_id\n",
      "STATUS  < -- >  status\n",
      "TRACKING_SOURCE  < -- >  tracking_source\n",
      "TRACKING_ID  < -- >  tracking_id\n",
      "DATE_OF_BIRTH  < -- >  dob\n",
      "EMAIL_ADDRESS  < -- >  email\n",
      "CITIZENSHIP_CONFIRMED  < -- >  citizenship_confirmed\n",
      "SALUTATION  < -- >  salutation\n",
      "FIRST_NAME  < -- >  first_name\n",
      "MIDDLE_NAME  < -- >  middle_name\n",
      "LAST_NAME  < -- >  last_name\n",
      "NAME_SUFFIX  < -- >  name_suffix\n",
      "HOME_ADDRESS  < -- >  home_address\n",
      "HOME_UNIT  < -- >  home_unit\n",
      "HOME_CITY  < -- >  home_city\n",
      "HOME_COUNTY  < -- >  home_county\n",
      "HOME_STATE  < -- >  home_state\n",
      "HOME_ZIP_CODE  < -- >  home_zip_code\n",
      "MAILING_ADDRESS  < -- >  mailing_address\n",
      "MAILING_UNIT  < -- >  mailing_unit\n",
      "MAILING_CITY  < -- >  mailing_city\n",
      "MAILING_COUNTY  < -- >  mailing_county\n",
      "MAILING_STATE  < -- >  mailing_state\n",
      "MAILING_ZIP_CODE  < -- >  mailing_zip_code\n",
      "PARTY  < -- >  party\n",
      "RACE  < -- >  race\n",
      "PHONE  < -- >  phone\n",
      "PHONE_TYPE  < -- >  phone_type\n",
      "OPT_IN_TO_VENDOR_EMAIL  < -- >  opt_in_to_vendor_email\n",
      "OPT_IN_TO_VENDOR_SMS  < -- >  opt_in_to_vendor_sms\n",
      "OPT_IN_TO_PARTNER_EMAIL  < -- >  opt_in_to_partner_email\n",
      "OPT_IN_TO_PARTNER_SMSROBOCALL  < -- >  opt_in_to_partner_smsrobocall\n",
      "VOLUNTEER_FOR_VENDOR  < -- >  volunteer_for_vendor\n",
      "VOLUNTEER_FOR_PARTNER  < -- >  volunteer_for_partner\n",
      "PRE_REGISTERED  < -- >  pre_registered\n",
      "REGISTRATION_DATE  < -- >  registration_date\n",
      "FINISH_WITH_STATE  < -- >  finish_with_state\n",
      "BUILT_VIA_API  < -- >  built_via_api\n",
      "SUBMITTED_VIA_STATE_API  < -- >  submitted_via_state_api\n",
      "REGISTRATION_SOURCE  < -- >  registration_source\n",
      "SHIFT_ID  < -- >  shift_id\n",
      "SHIFT_TYPE  < -- >  shift_type\n",
      "OFFICE  < -- >  office\n",
      "VENDOR_A_SHIFT_ID  < -- >  vendor_a_shift_id\n",
      "SALUTATION_STANDARDIZED  < -- >  salutation_standardized\n",
      "HAS_MAILING_ADDRESS_STANDARDIZED  < -- >  has_mailing_address_standardized\n",
      "HAS_STATE_LICENSE_STANDARDIZED  < -- >  has_state_license_standardized\n",
      "HAS_SSN_STANDARDIZED  < -- >  has_ssn_standardized\n",
      "PREDICTED_GENDER  < -- >  predicted_gender\n",
      "ORG  < -- >  org\n",
      "EVC_ID  < -- >  evc_id\n",
      "PROGRAM_STATE  < -- >  program_state\n",
      "PARTNER_ID  < -- >  partner_id\n",
      "FIELD_START  < -- >  field_start\n",
      "FIELD_END  < -- >  field_end\n"
     ]
    }
   ],
   "source": [
    "# compare that the columns are in order, and they are the same\n",
    "for c in range(len(df_vendors_x.columns)):\n",
    "    print(df_vendors_x.columns.values.tolist()[c], ' < -- > ', df_vendors_y.columns.values.tolist()[c])"
   ],
   "metadata": {
    "collapsed": false,
    "pycharm": {
     "name": "#%%\n"
    }
   }
  },
  {
   "cell_type": "code",
   "execution_count": 48,
   "outputs": [
    {
     "data": {
      "text/plain": "                                     0       1          2          3   \\\n0  d95bafc8-f2a4-427b-9cf4-bb99f4bea973  Step 1  ffxkVZQtq  MnMcLRkBO   \n1  e16dce72-f18e-4598-b5e1-f291d322a735  Step 1  BTWcdxxlp  RbfhebcUb   \n2  8918b682-4f4a-453e-b430-051376e31f5a  Step 4  nRWnUZBBG  bLLdAHLlg   \n3  1cb0a312-4978-4137-8624-857a2c2af60d  Step 2  IWBgvHpTG  qkkDTpzwY   \n4  a62923cd-7f8f-4441-8ef5-4c3dad29b40a  Step 2  ESITtequt  vPYtPPzHf   \n\n           4                          5      6      7        8         9   \\\n0  1960-05-29             amy78yahoo.com   True    Dr.   Steven     Lucas   \n1  1957-08-17         david22hotmail.com   True    Dr.  Bradley  Veronica   \n2  1997-02-14            hdiaz5gmail.com  False    Dr.     Kyle     Nancy   \n3  1984-11-22  stevenhiggins3hotmail.com  False  Misc.    Brian    Joshua   \n4  1976-01-19       petermorenogmail.com   True    Mr.    Jesse   Stephen   \n\n   ...     45     46    47      48     49         50  51    52  \\\n0  ...   True  False  True  female  org_5  PdrLoRgWH  DC  4355   \n1  ...  False   True  True   other  org_1  pggblWogn  AK  8531   \n2  ...   True  False  True    male  org_1  ZfRZPcisy  IN  5397   \n3  ...  False  False  True  female  org_1  sJDaxcIyK  NV  3349   \n4  ...   True  False  True  female  org_5  yIsEOjxum  NM  1557   \n\n                    53                   54  \n0  2022-02-09 00:00:00  2022-02-09 02:00:00  \n1  2022-07-24 00:00:00  2022-07-24 02:00:00  \n2  2022-04-25 00:00:00  2022-04-25 02:00:00  \n3  2022-10-10 00:00:00  2022-10-10 02:00:00  \n4  2021-12-31 00:00:00  2021-12-31 02:00:00  \n\n[5 rows x 55 columns]",
      "text/html": "<div>\n<style scoped>\n    .dataframe tbody tr th:only-of-type {\n        vertical-align: middle;\n    }\n\n    .dataframe tbody tr th {\n        vertical-align: top;\n    }\n\n    .dataframe thead th {\n        text-align: right;\n    }\n</style>\n<table border=\"1\" class=\"dataframe\">\n  <thead>\n    <tr style=\"text-align: right;\">\n      <th></th>\n      <th>0</th>\n      <th>1</th>\n      <th>2</th>\n      <th>3</th>\n      <th>4</th>\n      <th>5</th>\n      <th>6</th>\n      <th>7</th>\n      <th>8</th>\n      <th>9</th>\n      <th>...</th>\n      <th>45</th>\n      <th>46</th>\n      <th>47</th>\n      <th>48</th>\n      <th>49</th>\n      <th>50</th>\n      <th>51</th>\n      <th>52</th>\n      <th>53</th>\n      <th>54</th>\n    </tr>\n  </thead>\n  <tbody>\n    <tr>\n      <th>0</th>\n      <td>d95bafc8-f2a4-427b-9cf4-bb99f4bea973</td>\n      <td>Step 1</td>\n      <td>ffxkVZQtq</td>\n      <td>MnMcLRkBO</td>\n      <td>1960-05-29</td>\n      <td>amy78yahoo.com</td>\n      <td>True</td>\n      <td>Dr.</td>\n      <td>Steven</td>\n      <td>Lucas</td>\n      <td>...</td>\n      <td>True</td>\n      <td>False</td>\n      <td>True</td>\n      <td>female</td>\n      <td>org_5</td>\n      <td>PdrLoRgWH</td>\n      <td>DC</td>\n      <td>4355</td>\n      <td>2022-02-09 00:00:00</td>\n      <td>2022-02-09 02:00:00</td>\n    </tr>\n    <tr>\n      <th>1</th>\n      <td>e16dce72-f18e-4598-b5e1-f291d322a735</td>\n      <td>Step 1</td>\n      <td>BTWcdxxlp</td>\n      <td>RbfhebcUb</td>\n      <td>1957-08-17</td>\n      <td>david22hotmail.com</td>\n      <td>True</td>\n      <td>Dr.</td>\n      <td>Bradley</td>\n      <td>Veronica</td>\n      <td>...</td>\n      <td>False</td>\n      <td>True</td>\n      <td>True</td>\n      <td>other</td>\n      <td>org_1</td>\n      <td>pggblWogn</td>\n      <td>AK</td>\n      <td>8531</td>\n      <td>2022-07-24 00:00:00</td>\n      <td>2022-07-24 02:00:00</td>\n    </tr>\n    <tr>\n      <th>2</th>\n      <td>8918b682-4f4a-453e-b430-051376e31f5a</td>\n      <td>Step 4</td>\n      <td>nRWnUZBBG</td>\n      <td>bLLdAHLlg</td>\n      <td>1997-02-14</td>\n      <td>hdiaz5gmail.com</td>\n      <td>False</td>\n      <td>Dr.</td>\n      <td>Kyle</td>\n      <td>Nancy</td>\n      <td>...</td>\n      <td>True</td>\n      <td>False</td>\n      <td>True</td>\n      <td>male</td>\n      <td>org_1</td>\n      <td>ZfRZPcisy</td>\n      <td>IN</td>\n      <td>5397</td>\n      <td>2022-04-25 00:00:00</td>\n      <td>2022-04-25 02:00:00</td>\n    </tr>\n    <tr>\n      <th>3</th>\n      <td>1cb0a312-4978-4137-8624-857a2c2af60d</td>\n      <td>Step 2</td>\n      <td>IWBgvHpTG</td>\n      <td>qkkDTpzwY</td>\n      <td>1984-11-22</td>\n      <td>stevenhiggins3hotmail.com</td>\n      <td>False</td>\n      <td>Misc.</td>\n      <td>Brian</td>\n      <td>Joshua</td>\n      <td>...</td>\n      <td>False</td>\n      <td>False</td>\n      <td>True</td>\n      <td>female</td>\n      <td>org_1</td>\n      <td>sJDaxcIyK</td>\n      <td>NV</td>\n      <td>3349</td>\n      <td>2022-10-10 00:00:00</td>\n      <td>2022-10-10 02:00:00</td>\n    </tr>\n    <tr>\n      <th>4</th>\n      <td>a62923cd-7f8f-4441-8ef5-4c3dad29b40a</td>\n      <td>Step 2</td>\n      <td>ESITtequt</td>\n      <td>vPYtPPzHf</td>\n      <td>1976-01-19</td>\n      <td>petermorenogmail.com</td>\n      <td>True</td>\n      <td>Mr.</td>\n      <td>Jesse</td>\n      <td>Stephen</td>\n      <td>...</td>\n      <td>True</td>\n      <td>False</td>\n      <td>True</td>\n      <td>female</td>\n      <td>org_5</td>\n      <td>yIsEOjxum</td>\n      <td>NM</td>\n      <td>1557</td>\n      <td>2021-12-31 00:00:00</td>\n      <td>2021-12-31 02:00:00</td>\n    </tr>\n  </tbody>\n</table>\n<p>5 rows × 55 columns</p>\n</div>"
     },
     "execution_count": 48,
     "metadata": {},
     "output_type": "execute_result"
    }
   ],
   "source": [
    "# merge the dataframes\n",
    "df_vendors = pd.DataFrame( np.concatenate( (df_vendors_x.values, df_vendors_y.values), axis=0 ) )\n",
    "df_vendors.head()"
   ],
   "metadata": {
    "collapsed": false,
    "pycharm": {
     "name": "#%%\n"
    }
   }
  },
  {
   "cell_type": "markdown",
   "source": [
    "### 3. Standardize the column names and the data\n",
    "   See Data section below for morecons_email = pd.read_csv('cons_email.csv') info"
   ],
   "metadata": {
    "collapsed": false,
    "pycharm": {
     "name": "#%% md\n"
    }
   }
  },
  {
   "cell_type": "code",
   "execution_count": 49,
   "outputs": [
    {
     "data": {
      "text/plain": "                              vendor_id  status tracking_source tracking_id  \\\n0  d95bafc8-f2a4-427b-9cf4-bb99f4bea973  Step 1       ffxkVZQtq   MnMcLRkBO   \n1  e16dce72-f18e-4598-b5e1-f291d322a735  Step 1       BTWcdxxlp   RbfhebcUb   \n2  8918b682-4f4a-453e-b430-051376e31f5a  Step 4       nRWnUZBBG   bLLdAHLlg   \n3  1cb0a312-4978-4137-8624-857a2c2af60d  Step 2       IWBgvHpTG   qkkDTpzwY   \n4  a62923cd-7f8f-4441-8ef5-4c3dad29b40a  Step 2       ESITtequt   vPYtPPzHf   \n\n  date_of_birth              email_address citizenship_confirmed salutation  \\\n0    1960-05-29             amy78yahoo.com                  True        Dr.   \n1    1957-08-17         david22hotmail.com                  True        Dr.   \n2    1997-02-14            hdiaz5gmail.com                 False        Dr.   \n3    1984-11-22  stevenhiggins3hotmail.com                 False      Misc.   \n4    1976-01-19       petermorenogmail.com                  True        Mr.   \n\n  first_name middle_name  ... has_mailing_address_standardized  \\\n0     Steven       Lucas  ...                             True   \n1    Bradley    Veronica  ...                            False   \n2       Kyle       Nancy  ...                             True   \n3      Brian      Joshua  ...                            False   \n4      Jesse     Stephen  ...                             True   \n\n  has_state_license_standardized has_ssn_standardized predicted_gender    org  \\\n0                          False                 True           female  org_5   \n1                           True                 True            other  org_1   \n2                          False                 True             male  org_1   \n3                          False                 True           female  org_1   \n4                          False                 True           female  org_5   \n\n      evc_id program_state partner_id          field_start  \\\n0  PdrLoRgWH            DC       4355  2022-02-09 00:00:00   \n1  pggblWogn            AK       8531  2022-07-24 00:00:00   \n2  ZfRZPcisy            IN       5397  2022-04-25 00:00:00   \n3  sJDaxcIyK            NV       3349  2022-10-10 00:00:00   \n4  yIsEOjxum            NM       1557  2021-12-31 00:00:00   \n\n             field_end  \n0  2022-02-09 02:00:00  \n1  2022-07-24 02:00:00  \n2  2022-04-25 02:00:00  \n3  2022-10-10 02:00:00  \n4  2021-12-31 02:00:00  \n\n[5 rows x 55 columns]",
      "text/html": "<div>\n<style scoped>\n    .dataframe tbody tr th:only-of-type {\n        vertical-align: middle;\n    }\n\n    .dataframe tbody tr th {\n        vertical-align: top;\n    }\n\n    .dataframe thead th {\n        text-align: right;\n    }\n</style>\n<table border=\"1\" class=\"dataframe\">\n  <thead>\n    <tr style=\"text-align: right;\">\n      <th></th>\n      <th>vendor_id</th>\n      <th>status</th>\n      <th>tracking_source</th>\n      <th>tracking_id</th>\n      <th>date_of_birth</th>\n      <th>email_address</th>\n      <th>citizenship_confirmed</th>\n      <th>salutation</th>\n      <th>first_name</th>\n      <th>middle_name</th>\n      <th>...</th>\n      <th>has_mailing_address_standardized</th>\n      <th>has_state_license_standardized</th>\n      <th>has_ssn_standardized</th>\n      <th>predicted_gender</th>\n      <th>org</th>\n      <th>evc_id</th>\n      <th>program_state</th>\n      <th>partner_id</th>\n      <th>field_start</th>\n      <th>field_end</th>\n    </tr>\n  </thead>\n  <tbody>\n    <tr>\n      <th>0</th>\n      <td>d95bafc8-f2a4-427b-9cf4-bb99f4bea973</td>\n      <td>Step 1</td>\n      <td>ffxkVZQtq</td>\n      <td>MnMcLRkBO</td>\n      <td>1960-05-29</td>\n      <td>amy78yahoo.com</td>\n      <td>True</td>\n      <td>Dr.</td>\n      <td>Steven</td>\n      <td>Lucas</td>\n      <td>...</td>\n      <td>True</td>\n      <td>False</td>\n      <td>True</td>\n      <td>female</td>\n      <td>org_5</td>\n      <td>PdrLoRgWH</td>\n      <td>DC</td>\n      <td>4355</td>\n      <td>2022-02-09 00:00:00</td>\n      <td>2022-02-09 02:00:00</td>\n    </tr>\n    <tr>\n      <th>1</th>\n      <td>e16dce72-f18e-4598-b5e1-f291d322a735</td>\n      <td>Step 1</td>\n      <td>BTWcdxxlp</td>\n      <td>RbfhebcUb</td>\n      <td>1957-08-17</td>\n      <td>david22hotmail.com</td>\n      <td>True</td>\n      <td>Dr.</td>\n      <td>Bradley</td>\n      <td>Veronica</td>\n      <td>...</td>\n      <td>False</td>\n      <td>True</td>\n      <td>True</td>\n      <td>other</td>\n      <td>org_1</td>\n      <td>pggblWogn</td>\n      <td>AK</td>\n      <td>8531</td>\n      <td>2022-07-24 00:00:00</td>\n      <td>2022-07-24 02:00:00</td>\n    </tr>\n    <tr>\n      <th>2</th>\n      <td>8918b682-4f4a-453e-b430-051376e31f5a</td>\n      <td>Step 4</td>\n      <td>nRWnUZBBG</td>\n      <td>bLLdAHLlg</td>\n      <td>1997-02-14</td>\n      <td>hdiaz5gmail.com</td>\n      <td>False</td>\n      <td>Dr.</td>\n      <td>Kyle</td>\n      <td>Nancy</td>\n      <td>...</td>\n      <td>True</td>\n      <td>False</td>\n      <td>True</td>\n      <td>male</td>\n      <td>org_1</td>\n      <td>ZfRZPcisy</td>\n      <td>IN</td>\n      <td>5397</td>\n      <td>2022-04-25 00:00:00</td>\n      <td>2022-04-25 02:00:00</td>\n    </tr>\n    <tr>\n      <th>3</th>\n      <td>1cb0a312-4978-4137-8624-857a2c2af60d</td>\n      <td>Step 2</td>\n      <td>IWBgvHpTG</td>\n      <td>qkkDTpzwY</td>\n      <td>1984-11-22</td>\n      <td>stevenhiggins3hotmail.com</td>\n      <td>False</td>\n      <td>Misc.</td>\n      <td>Brian</td>\n      <td>Joshua</td>\n      <td>...</td>\n      <td>False</td>\n      <td>False</td>\n      <td>True</td>\n      <td>female</td>\n      <td>org_1</td>\n      <td>sJDaxcIyK</td>\n      <td>NV</td>\n      <td>3349</td>\n      <td>2022-10-10 00:00:00</td>\n      <td>2022-10-10 02:00:00</td>\n    </tr>\n    <tr>\n      <th>4</th>\n      <td>a62923cd-7f8f-4441-8ef5-4c3dad29b40a</td>\n      <td>Step 2</td>\n      <td>ESITtequt</td>\n      <td>vPYtPPzHf</td>\n      <td>1976-01-19</td>\n      <td>petermorenogmail.com</td>\n      <td>True</td>\n      <td>Mr.</td>\n      <td>Jesse</td>\n      <td>Stephen</td>\n      <td>...</td>\n      <td>True</td>\n      <td>False</td>\n      <td>True</td>\n      <td>female</td>\n      <td>org_5</td>\n      <td>yIsEOjxum</td>\n      <td>NM</td>\n      <td>1557</td>\n      <td>2021-12-31 00:00:00</td>\n      <td>2021-12-31 02:00:00</td>\n    </tr>\n  </tbody>\n</table>\n<p>5 rows × 55 columns</p>\n</div>"
     },
     "execution_count": 49,
     "metadata": {},
     "output_type": "execute_result"
    }
   ],
   "source": [
    "# put columns names according to schema\n",
    "df_vendors.columns = [str(col).strip().lower() for col in df_vendors_x.columns.to_list()]\n",
    "df_vendors.head()"
   ],
   "metadata": {
    "collapsed": false,
    "pycharm": {
     "name": "#%%\n"
    }
   }
  },
  {
   "cell_type": "code",
   "execution_count": 50,
   "outputs": [
    {
     "data": {
      "text/plain": "vendor_id                           object\nstatus                              object\ntracking_source                     object\ntracking_id                         object\ndate_of_birth                       object\nemail_address                       object\ncitizenship_confirmed               object\nsalutation                          object\nfirst_name                          object\nmiddle_name                         object\nlast_name                           object\nname_suffix                         object\nhome_address                        object\nhome_unit                           object\nhome_city                           object\nhome_county                         object\nhome_state                          object\nhome_zip_code                       object\nmailing_address                     object\nmailing_unit                        object\nmailing_city                        object\nmailing_county                      object\nmailing_state                       object\nmailing_zip_code                    object\nparty                               object\nrace                                object\nphone                               object\nphone_type                          object\nopt_in_to_vendor_email              object\nopt_in_to_vendor_sms                object\nopt_in_to_partner_email             object\nopt_in_to_partner_smsrobocall       object\nvolunteer_for_vendor                object\nvolunteer_for_partner               object\npre_registered                      object\nregistration_date                   object\nfinish_with_state                   object\nbuilt_via_api                       object\nsubmitted_via_state_api             object\nregistration_source                 object\nshift_id                            object\nshift_type                          object\noffice                              object\nvendor_a_shift_id                   object\nsalutation_standardized             object\nhas_mailing_address_standardized    object\nhas_state_license_standardized      object\nhas_ssn_standardized                object\npredicted_gender                    object\norg                                 object\nevc_id                              object\nprogram_state                       object\npartner_id                          object\nfield_start                         object\nfield_end                           object\ndtype: object"
     },
     "execution_count": 50,
     "metadata": {},
     "output_type": "execute_result"
    }
   ],
   "source": [
    "# verify data types\n",
    "df_vendors.dtypes"
   ],
   "metadata": {
    "collapsed": false,
    "pycharm": {
     "name": "#%%\n"
    }
   }
  },
  {
   "cell_type": "code",
   "execution_count": 51,
   "outputs": [
    {
     "data": {
      "text/plain": "vendor_id                           object\nstatus                              object\ntracking_source                     object\ntracking_id                         object\ndate_of_birth                       object\nemail_address                       object\ncitizenship_confirmed               object\nsalutation                          object\nfirst_name                          object\nmiddle_name                         object\nlast_name                           object\nname_suffix                         object\nhome_address                        object\nhome_unit                            int32\nhome_city                           object\nhome_county                         object\nhome_state                          object\nhome_zip_code                       object\nmailing_address                     object\nmailing_unit                         int32\nmailing_city                        object\nmailing_county                      object\nmailing_state                       object\nmailing_zip_code                    object\nparty                               object\nrace                                object\nphone                               object\nphone_type                          object\nopt_in_to_vendor_email              object\nopt_in_to_vendor_sms                object\nopt_in_to_partner_email             object\nopt_in_to_partner_smsrobocall       object\nvolunteer_for_vendor                object\nvolunteer_for_partner               object\npre_registered                      object\nregistration_date                   object\nfinish_with_state                   object\nbuilt_via_api                       object\nsubmitted_via_state_api             object\nregistration_source                 object\nshift_id                             int32\nshift_type                           int32\noffice                              object\nvendor_a_shift_id                    int32\nsalutation_standardized             object\nhas_mailing_address_standardized    object\nhas_state_license_standardized      object\nhas_ssn_standardized                object\npredicted_gender                    object\norg                                 object\nevc_id                              object\nprogram_state                       object\npartner_id                           int32\nfield_start                         object\nfield_end                           object\ndtype: object"
     },
     "execution_count": 51,
     "metadata": {},
     "output_type": "execute_result"
    }
   ],
   "source": [
    "# convert and verify integer data types\n",
    "df_vendors = df_vendors.astype({\"home_unit\":\"int\",\"mailing_unit\":\"int\",\"shift_id\":\"int\",\"shift_type\":\"int\",\n",
    "                                \"vendor_a_shift_id\":\"int\",\"partner_id\":\"int\"})\n",
    "df_vendors.dtypes"
   ],
   "metadata": {
    "collapsed": false,
    "pycharm": {
     "name": "#%%\n"
    }
   }
  },
  {
   "cell_type": "code",
   "execution_count": 52,
   "outputs": [
    {
     "data": {
      "text/plain": "vendor_id                                   object\nstatus                                      object\ntracking_source                             object\ntracking_id                                 object\ndate_of_birth                       datetime64[ns]\nemail_address                               object\ncitizenship_confirmed                       object\nsalutation                                  object\nfirst_name                                  object\nmiddle_name                                 object\nlast_name                                   object\nname_suffix                                 object\nhome_address                                object\nhome_unit                                    int32\nhome_city                                   object\nhome_county                                 object\nhome_state                                  object\nhome_zip_code                               object\nmailing_address                             object\nmailing_unit                                 int32\nmailing_city                                object\nmailing_county                              object\nmailing_state                               object\nmailing_zip_code                            object\nparty                                       object\nrace                                        object\nphone                                       object\nphone_type                                  object\nopt_in_to_vendor_email                      object\nopt_in_to_vendor_sms                        object\nopt_in_to_partner_email                     object\nopt_in_to_partner_smsrobocall               object\nvolunteer_for_vendor                        object\nvolunteer_for_partner                       object\npre_registered                              object\nregistration_date                   datetime64[ns]\nfinish_with_state                           object\nbuilt_via_api                               object\nsubmitted_via_state_api                     object\nregistration_source                         object\nshift_id                                     int32\nshift_type                                   int32\noffice                                      object\nvendor_a_shift_id                            int32\nsalutation_standardized                     object\nhas_mailing_address_standardized            object\nhas_state_license_standardized              object\nhas_ssn_standardized                        object\npredicted_gender                            object\norg                                         object\nevc_id                                      object\nprogram_state                               object\npartner_id                                   int32\nfield_start                         datetime64[ns]\nfield_end                           datetime64[ns]\ndtype: object"
     },
     "execution_count": 52,
     "metadata": {},
     "output_type": "execute_result"
    }
   ],
   "source": [
    "# convert and verify date data types\n",
    "\n",
    "# I add '19' in years without four digits. After reviewed I think all dates are 19th century. Something to double-check for future tasks!\n",
    "df_vendors['date_of_birth'] = df_vendors['date_of_birth'].map(lambda x: x if len(x)==10 else '19'+x)\n",
    "\n",
    "df_vendors = df_vendors.astype({\"date_of_birth\":\"datetime64\", \"registration_date\":\"datetime64\",\n",
    "                                \"field_start\":\"datetime64\", \"field_end\":\"datetime64\",})\n",
    "df_vendors.dtypes"
   ],
   "metadata": {
    "collapsed": false,
    "pycharm": {
     "name": "#%%\n"
    }
   }
  },
  {
   "cell_type": "code",
   "execution_count": 53,
   "outputs": [
    {
     "data": {
      "text/plain": "vendor_id                                   object\nstatus                                      object\ntracking_source                             object\ntracking_id                                 object\ndate_of_birth                       datetime64[ns]\nemail_address                               object\ncitizenship_confirmed                         bool\nsalutation                                  object\nfirst_name                                  object\nmiddle_name                                 object\nlast_name                                   object\nname_suffix                                 object\nhome_address                                object\nhome_unit                                    int32\nhome_city                                   object\nhome_county                                 object\nhome_state                                  object\nhome_zip_code                               object\nmailing_address                             object\nmailing_unit                                 int32\nmailing_city                                object\nmailing_county                              object\nmailing_state                               object\nmailing_zip_code                            object\nparty                                       object\nrace                                        object\nphone                                       object\nphone_type                                  object\nopt_in_to_vendor_email                        bool\nopt_in_to_vendor_sms                          bool\nopt_in_to_partner_email                       bool\nopt_in_to_partner_smsrobocall                 bool\nvolunteer_for_vendor                          bool\nvolunteer_for_partner                         bool\npre_registered                                bool\nregistration_date                   datetime64[ns]\nfinish_with_state                             bool\nbuilt_via_api                                 bool\nsubmitted_via_state_api                       bool\nregistration_source                         object\nshift_id                                     int32\nshift_type                                   int32\noffice                                      object\nvendor_a_shift_id                            int32\nsalutation_standardized                     object\nhas_mailing_address_standardized              bool\nhas_state_license_standardized                bool\nhas_ssn_standardized                          bool\npredicted_gender                            object\norg                                         object\nevc_id                                      object\nprogram_state                               object\npartner_id                                   int32\nfield_start                         datetime64[ns]\nfield_end                           datetime64[ns]\ndtype: object"
     },
     "execution_count": 53,
     "metadata": {},
     "output_type": "execute_result"
    }
   ],
   "source": [
    "# convert and verify bool data types\n",
    "df_vendors = df_vendors.astype({\"citizenship_confirmed\":\"bool\", \"opt_in_to_vendor_email\":\"bool\",\n",
    "                                \"opt_in_to_vendor_sms\":\"bool\", \"opt_in_to_partner_email\":\"bool\",\n",
    "                                \"opt_in_to_partner_smsrobocall\":\"bool\", \"volunteer_for_vendor\":\"bool\",\n",
    "                                \"volunteer_for_partner\":\"bool\", \"pre_registered\":\"bool\",\n",
    "                                \"finish_with_state\":\"bool\", \"built_via_api\":\"bool\",\n",
    "                                \"submitted_via_state_api\":\"bool\", \"has_mailing_address_standardized\":\"bool\", \"has_state_license_standardized\":\"bool\", \"has_ssn_standardized\":\"bool\"})\n",
    "df_vendors.dtypes"
   ],
   "metadata": {
    "collapsed": false,
    "pycharm": {
     "name": "#%%\n"
    }
   }
  },
  {
   "cell_type": "code",
   "execution_count": 54,
   "outputs": [
    {
     "data": {
      "text/plain": "                              vendor_id  status tracking_source tracking_id  \\\n0  d95bafc8-f2a4-427b-9cf4-bb99f4bea973  Step 1       ffxkVZQtq   MnMcLRkBO   \n1  e16dce72-f18e-4598-b5e1-f291d322a735  Step 1       BTWcdxxlp   RbfhebcUb   \n2  8918b682-4f4a-453e-b430-051376e31f5a  Step 4       nRWnUZBBG   bLLdAHLlg   \n3  1cb0a312-4978-4137-8624-857a2c2af60d  Step 2       IWBgvHpTG   qkkDTpzwY   \n4  a62923cd-7f8f-4441-8ef5-4c3dad29b40a  Step 2       ESITtequt   vPYtPPzHf   \n\n  date_of_birth              email_address  citizenship_confirmed salutation  \\\n0    1960-05-29             amy78yahoo.com                   True        Dr.   \n1    1957-08-17         david22hotmail.com                   True        Dr.   \n2    1997-02-14            hdiaz5gmail.com                  False        Dr.   \n3    1984-11-22  stevenhiggins3hotmail.com                  False      Misc.   \n4    1976-01-19       petermorenogmail.com                   True        Mr.   \n\n  first_name middle_name  ... has_mailing_address_standardized  \\\n0     Steven       Lucas  ...                             True   \n1    Bradley    Veronica  ...                            False   \n2       Kyle       Nancy  ...                             True   \n3      Brian      Joshua  ...                            False   \n4      Jesse     Stephen  ...                             True   \n\n  has_state_license_standardized has_ssn_standardized  predicted_gender  \\\n0                          False                 True            female   \n1                           True                 True             other   \n2                          False                 True              male   \n3                          False                 True            female   \n4                          False                 True            female   \n\n     org     evc_id program_state partner_id field_start           field_end  \n0  org_5  PdrLoRgWH            DC       4355  2022-02-09 2022-02-09 02:00:00  \n1  org_1  pggblWogn            AK       8531  2022-07-24 2022-07-24 02:00:00  \n2  org_1  ZfRZPcisy            IN       5397  2022-04-25 2022-04-25 02:00:00  \n3  org_1  sJDaxcIyK            NV       3349  2022-10-10 2022-10-10 02:00:00  \n4  org_5  yIsEOjxum            NM       1557  2021-12-31 2021-12-31 02:00:00  \n\n[5 rows x 55 columns]",
      "text/html": "<div>\n<style scoped>\n    .dataframe tbody tr th:only-of-type {\n        vertical-align: middle;\n    }\n\n    .dataframe tbody tr th {\n        vertical-align: top;\n    }\n\n    .dataframe thead th {\n        text-align: right;\n    }\n</style>\n<table border=\"1\" class=\"dataframe\">\n  <thead>\n    <tr style=\"text-align: right;\">\n      <th></th>\n      <th>vendor_id</th>\n      <th>status</th>\n      <th>tracking_source</th>\n      <th>tracking_id</th>\n      <th>date_of_birth</th>\n      <th>email_address</th>\n      <th>citizenship_confirmed</th>\n      <th>salutation</th>\n      <th>first_name</th>\n      <th>middle_name</th>\n      <th>...</th>\n      <th>has_mailing_address_standardized</th>\n      <th>has_state_license_standardized</th>\n      <th>has_ssn_standardized</th>\n      <th>predicted_gender</th>\n      <th>org</th>\n      <th>evc_id</th>\n      <th>program_state</th>\n      <th>partner_id</th>\n      <th>field_start</th>\n      <th>field_end</th>\n    </tr>\n  </thead>\n  <tbody>\n    <tr>\n      <th>0</th>\n      <td>d95bafc8-f2a4-427b-9cf4-bb99f4bea973</td>\n      <td>Step 1</td>\n      <td>ffxkVZQtq</td>\n      <td>MnMcLRkBO</td>\n      <td>1960-05-29</td>\n      <td>amy78yahoo.com</td>\n      <td>True</td>\n      <td>Dr.</td>\n      <td>Steven</td>\n      <td>Lucas</td>\n      <td>...</td>\n      <td>True</td>\n      <td>False</td>\n      <td>True</td>\n      <td>female</td>\n      <td>org_5</td>\n      <td>PdrLoRgWH</td>\n      <td>DC</td>\n      <td>4355</td>\n      <td>2022-02-09</td>\n      <td>2022-02-09 02:00:00</td>\n    </tr>\n    <tr>\n      <th>1</th>\n      <td>e16dce72-f18e-4598-b5e1-f291d322a735</td>\n      <td>Step 1</td>\n      <td>BTWcdxxlp</td>\n      <td>RbfhebcUb</td>\n      <td>1957-08-17</td>\n      <td>david22hotmail.com</td>\n      <td>True</td>\n      <td>Dr.</td>\n      <td>Bradley</td>\n      <td>Veronica</td>\n      <td>...</td>\n      <td>False</td>\n      <td>True</td>\n      <td>True</td>\n      <td>other</td>\n      <td>org_1</td>\n      <td>pggblWogn</td>\n      <td>AK</td>\n      <td>8531</td>\n      <td>2022-07-24</td>\n      <td>2022-07-24 02:00:00</td>\n    </tr>\n    <tr>\n      <th>2</th>\n      <td>8918b682-4f4a-453e-b430-051376e31f5a</td>\n      <td>Step 4</td>\n      <td>nRWnUZBBG</td>\n      <td>bLLdAHLlg</td>\n      <td>1997-02-14</td>\n      <td>hdiaz5gmail.com</td>\n      <td>False</td>\n      <td>Dr.</td>\n      <td>Kyle</td>\n      <td>Nancy</td>\n      <td>...</td>\n      <td>True</td>\n      <td>False</td>\n      <td>True</td>\n      <td>male</td>\n      <td>org_1</td>\n      <td>ZfRZPcisy</td>\n      <td>IN</td>\n      <td>5397</td>\n      <td>2022-04-25</td>\n      <td>2022-04-25 02:00:00</td>\n    </tr>\n    <tr>\n      <th>3</th>\n      <td>1cb0a312-4978-4137-8624-857a2c2af60d</td>\n      <td>Step 2</td>\n      <td>IWBgvHpTG</td>\n      <td>qkkDTpzwY</td>\n      <td>1984-11-22</td>\n      <td>stevenhiggins3hotmail.com</td>\n      <td>False</td>\n      <td>Misc.</td>\n      <td>Brian</td>\n      <td>Joshua</td>\n      <td>...</td>\n      <td>False</td>\n      <td>False</td>\n      <td>True</td>\n      <td>female</td>\n      <td>org_1</td>\n      <td>sJDaxcIyK</td>\n      <td>NV</td>\n      <td>3349</td>\n      <td>2022-10-10</td>\n      <td>2022-10-10 02:00:00</td>\n    </tr>\n    <tr>\n      <th>4</th>\n      <td>a62923cd-7f8f-4441-8ef5-4c3dad29b40a</td>\n      <td>Step 2</td>\n      <td>ESITtequt</td>\n      <td>vPYtPPzHf</td>\n      <td>1976-01-19</td>\n      <td>petermorenogmail.com</td>\n      <td>True</td>\n      <td>Mr.</td>\n      <td>Jesse</td>\n      <td>Stephen</td>\n      <td>...</td>\n      <td>True</td>\n      <td>False</td>\n      <td>True</td>\n      <td>female</td>\n      <td>org_5</td>\n      <td>yIsEOjxum</td>\n      <td>NM</td>\n      <td>1557</td>\n      <td>2021-12-31</td>\n      <td>2021-12-31 02:00:00</td>\n    </tr>\n  </tbody>\n</table>\n<p>5 rows × 55 columns</p>\n</div>"
     },
     "execution_count": 54,
     "metadata": {},
     "output_type": "execute_result"
    }
   ],
   "source": [
    "# final dataframe\n",
    "df_vendors.head()"
   ],
   "metadata": {
    "collapsed": false,
    "pycharm": {
     "name": "#%%\n"
    }
   }
  },
  {
   "cell_type": "markdown",
   "source": [
    "#### 4. Save data to a file\n",
    "   `all_vendors.csv`"
   ],
   "metadata": {
    "collapsed": false,
    "pycharm": {
     "name": "#%% md\n"
    }
   }
  },
  {
   "cell_type": "code",
   "execution_count": 55,
   "outputs": [],
   "source": [
    "df_vendors = df_vendors.set_index(\"vendor_id\")\n",
    "df_vendors.to_csv('data/all_vendors.csv')"
   ],
   "metadata": {
    "collapsed": false,
    "pycharm": {
     "name": "#%%\n"
    }
   }
  },
  {
   "cell_type": "markdown",
   "source": [
    "### 5. Import data in to the database\n",
    "   1. Schema name (the result of this query using your username):\n",
    "      `select 's_<hash>;` (use the schema name shared with you)\n",
    "   2. Table name: `all_vendors`"
   ],
   "metadata": {
    "collapsed": false,
    "pycharm": {
     "name": "#%% md\n"
    }
   }
  },
  {
   "cell_type": "code",
   "execution_count": 56,
   "outputs": [],
   "source": [
    "# 1. Create table all_vendors according to schema\n",
    "create_table = f'''\n",
    "    DROP TABLE IF EXISTS {schema}.all_vendors;\n",
    "    CREATE TABLE \"all_vendors\"(\n",
    "    \"vendor_id\"\tvarchar(1024) NULL,\n",
    "    \"status\"\tvarchar(1024) NULL,\n",
    "    \"tracking_source\"\tvarchar(1024) NULL,\n",
    "    \"tracking_id\"\tvarchar(1024) NULL,\n",
    "    \"date_of_birth\"\tdate NULL,\n",
    "    \"email_address\"\tvarchar(1024) NULL,\n",
    "    \"citizenship_confirmed\"\tboolean NULL,\n",
    "    \"salutation\"\tvarchar(1024) NULL,\n",
    "    \"first_name\"\tvarchar(1024) NULL,\n",
    "    \"middle_name\"\tvarchar(1024) NULL,\n",
    "    \"last_name\"\tvarchar(1024) NULL,\n",
    "    \"name_suffix\"\tvarchar(1024) NULL,\n",
    "    \"home_address\"\tvarchar(1024) NULL,\n",
    "    \"home_unit\"\tinteger NULL,\n",
    "    \"home_city\"\tvarchar(1024) NULL,\n",
    "    \"home_county\" varchar(1024) NULL,\n",
    "    \"home_state\" varchar(1024) NULL,\n",
    "    \"home_zip_code\"\tvarchar(1024) NULL,\n",
    "    \"mailing_address\" varchar(1024) NULL,\n",
    "    \"mailing_unit\" integer NULL,\n",
    "    \"mailing_city\" varchar(1024) NULL,\n",
    "    \"mailing_county\" varchar(1024) NULL,\n",
    "    \"mailing_state\"\tvarchar(1024) NULL,\n",
    "    \"mailing_zip_code\"\tvarchar(1024) NULL,\n",
    "    \"party\"\tvarchar(1024) NULL,\n",
    "    \"race\"\tvarchar(1024) NULL,\n",
    "    \"phone\"\tvarchar(1024) NULL,\n",
    "    \"phone_type\" varchar(1024) NULL,\n",
    "    \"opt_in_to_vendor_email\" boolean NULL,\n",
    "    \"opt_in_to_vendor_sms\" boolean NULL,\n",
    "    \"opt_in_to_partner_email\" boolean NULL,\n",
    "    \"opt_in_to_partner_smsrobocall\"\tboolean NULL,\n",
    "    \"volunteer_for_vendor\" boolean NULL,\n",
    "    \"volunteer_for_partner\"\tboolean NULL,\n",
    "    \"pre_registered\" boolean NULL,\n",
    "    \"registration_date\"\ttimestamp NULL,\n",
    "    \"finish_with_state\"\tboolean NULL,\n",
    "    \"built_via_api\"\tboolean NULL,\n",
    "    \"submitted_via_state_api\" boolean NULL,\n",
    "    \"registration_source\" varchar(1024) NULL,\n",
    "    \"shift_id\" integer NULL,\n",
    "    \"shift_type\" integer NULL,\n",
    "    \"office\" varchar(1024) NULL,\n",
    "    \"vendor_a_shift_id\"\tinteger NULL,\n",
    "    \"salutation_standardized\" varchar(1024) NULL,\n",
    "    \"has_mailing_address_standardized\" boolean NULL,\n",
    "    \"has_state_license_standardized\" boolean NULL,\n",
    "    \"has_ssn_standardized\" bool NULL,\n",
    "    \"predicted_gender\" varchar(1024) NULL,\n",
    "    \"org\" varchar(1024) NULL,\n",
    "    \"evc_id\" varchar(1024) NULL,\n",
    "    \"program_state\"\tvarchar(1024) NULL,\n",
    "    \"partner_id\" integer NULL,\n",
    "    \"field_start\" timestamp NULL,\n",
    "    \"field_end\"\ttimestamp NULL\n",
    "    );\n",
    "'''\n",
    "conn = get_connection()\n",
    "cursor = conn.cursor()\n",
    "cursor.execute(create_table)\n",
    "conn.commit()"
   ],
   "metadata": {
    "collapsed": false,
    "pycharm": {
     "name": "#%%\n"
    }
   }
  },
  {
   "cell_type": "code",
   "execution_count": 57,
   "outputs": [],
   "source": [
    "# populate table all_vendors\n",
    "conn = get_connection()\n",
    "cursor = conn.cursor()\n",
    "# load file\n",
    "file = open('data/all_vendors.csv')\n",
    "content_file = csv.reader(file)\n",
    "# skip headers\n",
    "next(content_file)\n",
    "# create 55 %s parameters for the query\n",
    "param = \"\"\n",
    "for n in range(55):\n",
    "    param += \"%s, \"\n",
    "# define the query\n",
    "insert_sql = f\"INSERT INTO {schema}.all_vendors (vendor_id,status,tracking_source,tracking_id,date_of_birth,email_address,citizenship_confirmed,salutation,first_name,middle_name,last_name,name_suffix,home_address,home_unit,home_city,home_county,home_state,home_zip_code,mailing_address,mailing_unit,mailing_city,mailing_county,mailing_state,mailing_zip_code,party,race,phone,phone_type,opt_in_to_vendor_email,opt_in_to_vendor_sms,opt_in_to_partner_email,opt_in_to_partner_smsrobocall,volunteer_for_vendor,volunteer_for_partner,pre_registered,registration_date,finish_with_state,built_via_api,submitted_via_state_api,registration_source,shift_id,shift_type,office,vendor_a_shift_id,salutation_standardized,has_mailing_address_standardized,has_state_license_standardized,has_ssn_standardized,predicted_gender,org,evc_id,program_state,partner_id,field_start,field_end) VALUES ({param[:-2]})\"\n",
    "# run query\n",
    "cursor.executemany(insert_sql, content_file)\n",
    "conn.commit()\n",
    "file.close()"
   ],
   "metadata": {
    "collapsed": false,
    "pycharm": {
     "name": "#%%\n"
    }
   }
  },
  {
   "cell_type": "code",
   "execution_count": 58,
   "outputs": [
    {
     "name": "stdout",
     "output_type": "stream",
     "text": [
      "294 ('d95bafc8-f2a4-427b-9cf4-bb99f4bea973', 'Step 1', 'ffxkVZQtq', 'MnMcLRkBO', datetime.date(1960, 5, 29), 'amy78yahoo.com', True, 'Dr.', 'Steven', 'Lucas', 'James', 'IV', '233 Gregory Extensions', 2, 'Yolandaside', 'county_3', 'NV', '54852', '557 Stephanie Locks Suite 837', 4, 'Masonstad', 'county_8', 'NH', '46477', 'independent', 'unknown', '+1-773-529-4744', 'other', False, False, False, False, False, False, False, datetime.datetime(2022, 4, 12, 0, 0), True, False, True, 'Web', 8386, 6006, 'office_2', 5594, 'Mr.', True, False, True, 'female', 'org_5', 'PdrLoRgWH', 'DC', 4355, datetime.datetime(2022, 2, 9, 0, 0), datetime.datetime(2022, 2, 9, 2, 0))\n"
     ]
    }
   ],
   "source": [
    "# verify data in the table\n",
    "query = f\"\"\"SELECT * FROM {schema}.all_vendors \"\"\"\n",
    "cursor.execute(query)\n",
    "records = cursor.fetchall()\n",
    "print(len(records), records[0])"
   ],
   "metadata": {
    "collapsed": false,
    "pycharm": {
     "name": "#%%\n"
    }
   }
  },
  {
   "cell_type": "code",
   "execution_count": null,
   "outputs": [],
   "source": [],
   "metadata": {
    "collapsed": false,
    "pycharm": {
     "name": "#%%\n"
    }
   }
  }
 ],
 "metadata": {
  "kernelspec": {
   "display_name": "Python 3",
   "language": "python",
   "name": "python3"
  },
  "language_info": {
   "codemirror_mode": {
    "name": "ipython",
    "version": 2
   },
   "file_extension": ".py",
   "mimetype": "text/x-python",
   "name": "python",
   "nbconvert_exporter": "python",
   "pygments_lexer": "ipython2",
   "version": "2.7.6"
  }
 },
 "nbformat": 4,
 "nbformat_minor": 0
}